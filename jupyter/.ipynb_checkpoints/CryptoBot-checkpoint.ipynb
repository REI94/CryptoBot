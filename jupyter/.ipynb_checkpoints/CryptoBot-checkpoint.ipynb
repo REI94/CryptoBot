{
 "cells": [
  {
   "cell_type": "markdown",
   "id": "9cb00ec7",
   "metadata": {},
   "source": [
    "# CryptoBot - Bot de trading con inteligencia artificial para criptomonedas"
   ]
  },
  {
   "cell_type": "markdown",
   "id": "4923c3a5",
   "metadata": {},
   "source": [
    "## Primero instalamos la biblioteca de Python necesaria para conectarnos con la API de Binance\n"
   ]
  },
  {
   "cell_type": "code",
   "execution_count": 1,
   "id": "570c8298",
   "metadata": {},
   "outputs": [
    {
     "name": "stdout",
     "output_type": "stream",
     "text": [
      "Requirement already satisfied: python-binance in c:\\users\\rei\\appdata\\local\\programs\\python\\python310\\lib\\site-packages (1.0.15)\n",
      "Requirement already satisfied: aiohttp in c:\\users\\rei\\appdata\\local\\programs\\python\\python310\\lib\\site-packages (from python-binance) (3.8.1)\n",
      "Requirement already satisfied: ujson in c:\\users\\rei\\appdata\\local\\programs\\python\\python310\\lib\\site-packages (from python-binance) (5.1.0)\n",
      "Requirement already satisfied: six in c:\\users\\rei\\appdata\\local\\programs\\python\\python310\\lib\\site-packages (from python-binance) (1.16.0)\n",
      "Requirement already satisfied: requests in c:\\users\\rei\\appdata\\local\\programs\\python\\python310\\lib\\site-packages (from python-binance) (2.27.1)\n",
      "Requirement already satisfied: websockets==9.1 in c:\\users\\rei\\appdata\\local\\programs\\python\\python310\\lib\\site-packages (from python-binance) (9.1)\n",
      "Requirement already satisfied: dateparser in c:\\users\\rei\\appdata\\local\\programs\\python\\python310\\lib\\site-packages (from python-binance) (1.1.0)\n",
      "Requirement already satisfied: frozenlist>=1.1.1 in c:\\users\\rei\\appdata\\local\\programs\\python\\python310\\lib\\site-packages (from aiohttp->python-binance) (1.2.0)\n",
      "Requirement already satisfied: charset-normalizer<3.0,>=2.0 in c:\\users\\rei\\appdata\\local\\programs\\python\\python310\\lib\\site-packages (from aiohttp->python-binance) (2.0.10)\n",
      "Requirement already satisfied: yarl<2.0,>=1.0 in c:\\users\\rei\\appdata\\local\\programs\\python\\python310\\lib\\site-packages (from aiohttp->python-binance) (1.7.2)\n",
      "Requirement already satisfied: attrs>=17.3.0 in c:\\users\\rei\\appdata\\local\\programs\\python\\python310\\lib\\site-packages (from aiohttp->python-binance) (21.4.0)\n",
      "Requirement already satisfied: async-timeout<5.0,>=4.0.0a3 in c:\\users\\rei\\appdata\\local\\programs\\python\\python310\\lib\\site-packages (from aiohttp->python-binance) (4.0.2)\n",
      "Requirement already satisfied: aiosignal>=1.1.2 in c:\\users\\rei\\appdata\\local\\programs\\python\\python310\\lib\\site-packages (from aiohttp->python-binance) (1.2.0)\n",
      "Requirement already satisfied: multidict<7.0,>=4.5 in c:\\users\\rei\\appdata\\local\\programs\\python\\python310\\lib\\site-packages (from aiohttp->python-binance) (5.2.0)\n",
      "Requirement already satisfied: idna>=2.0 in c:\\users\\rei\\appdata\\local\\programs\\python\\python310\\lib\\site-packages (from yarl<2.0,>=1.0->aiohttp->python-binance) (3.3)\n",
      "Requirement already satisfied: python-dateutil in c:\\users\\rei\\appdata\\local\\programs\\python\\python310\\lib\\site-packages (from dateparser->python-binance) (2.8.2)\n",
      "Requirement already satisfied: tzlocal in c:\\users\\rei\\appdata\\local\\programs\\python\\python310\\lib\\site-packages (from dateparser->python-binance) (4.1)\n",
      "Requirement already satisfied: regex!=2019.02.19,!=2021.8.27 in c:\\users\\rei\\appdata\\local\\programs\\python\\python310\\lib\\site-packages (from dateparser->python-binance) (2021.11.10)\n",
      "Requirement already satisfied: pytz in c:\\users\\rei\\appdata\\local\\programs\\python\\python310\\lib\\site-packages (from dateparser->python-binance) (2021.3)\n",
      "Requirement already satisfied: certifi>=2017.4.17 in c:\\users\\rei\\appdata\\local\\programs\\python\\python310\\lib\\site-packages (from requests->python-binance) (2021.10.8)\n",
      "Requirement already satisfied: urllib3<1.27,>=1.21.1 in c:\\users\\rei\\appdata\\local\\programs\\python\\python310\\lib\\site-packages (from requests->python-binance) (1.26.8)\n",
      "Requirement already satisfied: tzdata in c:\\users\\rei\\appdata\\local\\programs\\python\\python310\\lib\\site-packages (from tzlocal->dateparser->python-binance) (2021.5)\n",
      "Requirement already satisfied: pytz-deprecation-shim in c:\\users\\rei\\appdata\\local\\programs\\python\\python310\\lib\\site-packages (from tzlocal->dateparser->python-binance) (0.1.0.post0)\n"
     ]
    },
    {
     "name": "stderr",
     "output_type": "stream",
     "text": [
      "WARNING: You are using pip version 21.2.4; however, version 22.0.3 is available.\n",
      "You should consider upgrading via the 'C:\\Users\\REI\\AppData\\Local\\Programs\\Python\\Python310\\python.exe -m pip install --upgrade pip' command.\n"
     ]
    }
   ],
   "source": [
    "import sys\n",
    "!{sys.executable} -m pip install python-binance"
   ]
  },
  {
   "cell_type": "code",
   "execution_count": 2,
   "id": "cc97384c",
   "metadata": {},
   "outputs": [],
   "source": [
    "from binance.client import Client\n",
    "\n",
    "# Keys\n",
    "API_KEY = \"FeeMWzRAnK901yrWojYpoVadSfEYEPjqWwXyBU0LirmPmY8rTBgWdsaoc4Z0ywor\"\n",
    "API_SECRET = \"Ro6KcR4zMhfywSvJ4ay9Gkqlpop6rdfan0A7qo4Xe3SL1OgBT8YgyITTN2uOxqhj\"\n",
    "\n",
    "client = Client(API_KEY, API_SECRET, tld='com')"
   ]
  },
  {
   "cell_type": "markdown",
   "id": "de93d726",
   "metadata": {},
   "source": [
    "## Luego instalamos las bibliotecas necesarias para poder graficar y realizar cálculos"
   ]
  },
  {
   "cell_type": "code",
   "execution_count": 3,
   "id": "958fd224",
   "metadata": {},
   "outputs": [],
   "source": [
    "#import sys\n",
    "#!{sys.executable} -m pip install matplotlib as plt\n",
    "#importo las bibliotecas necesarias\n",
    "import matplotlib.pyplot as plt\n",
    "import numpy as np\n",
    "import math"
   ]
  },
  {
   "cell_type": "markdown",
   "id": "e7753648",
   "metadata": {},
   "source": [
    "## Definimos la función objetivo para el Algoritmo Genético"
   ]
  },
  {
   "cell_type": "code",
   "execution_count": 4,
   "id": "d9c7e234",
   "metadata": {},
   "outputs": [],
   "source": [
    "# utilidad_criptos es un arreglo que contiene el posible porcentaje de utilidad (ganancia) asociado a cada criptomoneda\n",
    "\n",
    "def fx(individuo, utilidad_criptos):\n",
    "    utilidad_total = 0\n",
    "    for i,j in zip(individuo, utilidad_criptos):\n",
    "        utilidad_total += i*j\n",
    "    return utilidad_total"
   ]
  },
  {
   "cell_type": "markdown",
   "id": "b5963fc4",
   "metadata": {},
   "source": [
    "### Definimos la población a partir de una matriz de individuos generados aleatoriamente"
   ]
  },
  {
   "cell_type": "code",
   "execution_count": 5,
   "id": "6b6fe256",
   "metadata": {},
   "outputs": [
    {
     "name": "stdout",
     "output_type": "stream",
     "text": [
      "[[0, 0, 1, 0, 0, 0, 1, 1, 0, 1, 1, 0, 1, 0, 0, 0, 0, 0, 0, 0], [1, 0, 1, 0, 1, 1, 0, 0, 0, 1, 1, 1, 1, 1, 1, 1, 1, 0, 1, 1], [0, 0, 0, 1, 0, 0, 0, 0, 1, 1, 0, 0, 1, 0, 1, 0, 1, 1, 0, 0], [0, 0, 1, 1, 0, 1, 1, 1, 1, 1, 1, 1, 0, 1, 0, 1, 1, 1, 0, 1], [1, 1, 1, 1, 1, 1, 1, 0, 1, 0, 0, 0, 0, 1, 0, 1, 1, 0, 1, 1], [0, 1, 0, 1, 1, 0, 0, 1, 0, 1, 0, 0, 1, 1, 1, 1, 1, 1, 0, 1], [1, 1, 1, 1, 1, 1, 0, 0, 0, 1, 1, 0, 0, 1, 0, 0, 1, 0, 1, 0], [1, 1, 0, 1, 1, 1, 0, 1, 1, 1, 0, 1, 0, 0, 1, 0, 0, 1, 1, 0], [1, 0, 0, 1, 1, 1, 1, 1, 1, 1, 1, 1, 0, 0, 0, 1, 0, 0, 0, 0], [1, 0, 0, 1, 0, 0, 1, 0, 1, 0, 0, 1, 0, 0, 1, 1, 0, 0, 1, 1], [0, 0, 1, 0, 0, 0, 1, 0, 1, 1, 1, 1, 1, 1, 0, 0, 0, 0, 0, 1], [1, 1, 0, 1, 0, 1, 0, 0, 1, 1, 0, 0, 0, 0, 1, 1, 1, 1, 0, 1], [0, 0, 0, 1, 0, 1, 0, 1, 1, 1, 0, 0, 0, 1, 0, 1, 0, 0, 0, 1], [0, 0, 0, 0, 1, 1, 0, 0, 0, 1, 1, 0, 1, 0, 1, 0, 0, 1, 0, 1], [0, 0, 1, 0, 1, 0, 0, 0, 1, 1, 1, 0, 1, 1, 1, 0, 1, 0, 1, 1], [0, 1, 0, 0, 1, 0, 0, 1, 1, 1, 1, 1, 1, 0, 1, 0, 0, 0, 1, 0], [1, 0, 1, 0, 1, 1, 0, 1, 0, 1, 1, 0, 1, 0, 1, 0, 1, 0, 0, 1], [0, 0, 1, 0, 0, 0, 1, 0, 0, 1, 0, 1, 0, 0, 1, 0, 1, 1, 0, 1], [0, 1, 0, 0, 1, 1, 0, 1, 1, 1, 0, 1, 0, 1, 1, 0, 0, 1, 0, 0], [0, 0, 0, 0, 0, 0, 1, 0, 0, 1, 0, 1, 0, 0, 0, 0, 0, 0, 0, 0]]\n"
     ]
    }
   ],
   "source": [
    "genetic_pool = [0,1]\n",
    "poblacion = []\n",
    "\n",
    "for i in range(20):\n",
    "    individuo = list(np.random.choice(genetic_pool,20))\n",
    "    poblacion.append(individuo)\n",
    "\n",
    "# Mostramos la población\n",
    "print(poblacion)"
   ]
  },
  {
   "cell_type": "markdown",
   "id": "7a7022e7",
   "metadata": {},
   "source": [
    "### Definimos un arreglo de porcentajes aleatorios de utilidad asociados a cada criptomoneda"
   ]
  },
  {
   "cell_type": "code",
   "execution_count": 6,
   "id": "4cd92a60",
   "metadata": {},
   "outputs": [
    {
     "name": "stdout",
     "output_type": "stream",
     "text": [
      "[0.7940895848493861, 0.24436883833444267, 0.5883706106574397, 0.6968586341716937, 0.7954728146737975, 0.3435865314482225, 0.184095555957276, 0.29216247814761453, 0.6448406277508668, 0.9799409212079493, 0.7019971245559348, 0.9482084141322773, 0.47088672271642207, 0.6087322919832816, 0.10421640228042428, 0.8821015796561733, 0.097227817669992, 0.9515653092191642, 0.053594415568442244, 0.9685231623058107]\n"
     ]
    }
   ],
   "source": [
    "utilidad_individuo = list(np.random.rand(20))\n",
    "print(utilidad_individuo)"
   ]
  },
  {
   "cell_type": "markdown",
   "id": "678d5b72",
   "metadata": {},
   "source": [
    "### Definimos un entero para cada criptomoneda para identificarlas en la gráfica"
   ]
  },
  {
   "cell_type": "code",
   "execution_count": 7,
   "id": "e9a14124",
   "metadata": {},
   "outputs": [
    {
     "name": "stdout",
     "output_type": "stream",
     "text": [
      "[1, 2, 3, 4, 5, 6, 7, 8, 9, 10, 11, 12, 13, 14, 15, 16, 17, 18, 19, 20]\n"
     ]
    }
   ],
   "source": [
    "x_axis = []\n",
    "\n",
    "for i in range(1,21):\n",
    "    x_axis.append(i)\n",
    "\n",
    "print(x_axis)"
   ]
  },
  {
   "cell_type": "markdown",
   "id": "85e4e957",
   "metadata": {},
   "source": [
    "### Obtenemos para cada individuo la utilidad total devuelta por la función objetivo "
   ]
  },
  {
   "cell_type": "code",
   "execution_count": 8,
   "id": "9f9c614e",
   "metadata": {},
   "outputs": [],
   "source": [
    "y_axis = []\n",
    "\n",
    "for individuo in poblacion:          \n",
    "    y_axis.append(fx(individuo,utilidad_individuo))    "
   ]
  },
  {
   "cell_type": "markdown",
   "id": "c5b05996",
   "metadata": {},
   "source": [
    "### Graficamos Individuos vs Utilidad total"
   ]
  },
  {
   "cell_type": "code",
   "execution_count": 9,
   "id": "b39e2828",
   "metadata": {},
   "outputs": [
    {
     "data": {
      "text/plain": [
       "Text(0, 0.5, 'Utilidad total')"
      ]
     },
     "execution_count": 9,
     "metadata": {},
     "output_type": "execute_result"
    },
    {
     "data": {
      "image/png": "[encoded data removed]",
      "text/plain": [
       "<Figure size 432x288 with 1 Axes>"
      ]
     },
     "metadata": {
      "needs_background": "light"
     },
     "output_type": "display_data"
    }
   ],
   "source": [
    "plt.bar(x_axis,y_axis)\n",
    "plt.xticks(x_axis)\n",
    "\n",
    "plt.xlabel(\"Individuos\")\n",
    "plt.ylabel(\"Utilidad total\")"
   ]
  },
  {
   "cell_type": "markdown",
   "id": "76cdf49b",
   "metadata": {},
   "source": [
    "## Ahora definimos la función restricción"
   ]
  },
  {
   "cell_type": "code",
   "execution_count": 10,
   "id": "e1ec6bdf",
   "metadata": {},
   "outputs": [
    {
     "name": "stdout",
     "output_type": "stream",
     "text": [
      "[0.29128295468301313, 0.24137031847562074, 0.2485053634381569, 0.12483519893896292, 0.26333290968685275, 0.22897056323318113, 0.15600849804192068, 0.2674596282898738, 0.19300340591838755, 0.15307351045948953, 0.1828342054219359, 0.2372786422351719, 0.2575692816187932, 0.2414077242585297, 0.29628624770101475, 0.2398563227232708, 0.15543135332956418, 0.106270433148371, 0.2412278604141178, 0.20544936666818947]\n",
      "[0.005825659093660263, 0.004827406369512415, 0.004970107268763138, 0.0024967039787792585, 0.005266658193737055, 0.004579411264663623, 0.003120169960838414, 0.005349192565797476, 0.0038600681183677513, 0.0030614702091897907, 0.003656684108438718, 0.004745572844703438, 0.005151385632375865, 0.004828154485170594, 0.005925724954020295, 0.0047971264544654155, 0.003108627066591284, 0.0021254086629674197, 0.004824557208282356, 0.004108987333363789]\n"
     ]
    }
   ],
   "source": [
    "#perdida_individuo = list(np.random.rand(20))\n",
    "perdida_individuo = list(np.random.uniform(low=0.1, high=0.3, size=(20,)))\n",
    "print(perdida_individuo)\n",
    "perdida_total_asumida = .02\n",
    "perdida_criptos = []\n",
    "for i in perdida_individuo:\n",
    "    perdida_criptos.append(i * perdida_total_asumida)\n",
    "\n",
    "print(perdida_criptos)\n",
    "# perdida_criptos es un arreglo que contiene el posible porcentaje de perdida asociado a cada criptomoneda\n"
   ]
  },
  {
   "cell_type": "markdown",
   "id": "c787f122",
   "metadata": {},
   "source": [
    "### Ahora pasamos el arreglo de pérdidas por un filtro"
   ]
  },
  {
   "cell_type": "code",
   "execution_count": 11,
   "id": "8e7c84b0",
   "metadata": {},
   "outputs": [],
   "source": [
    "def rx(individuo, perdida_criptos):\n",
    "    perdida_total = 0\n",
    "    for i,j in zip(individuo, perdida_criptos):\n",
    "        perdida_total += i*j\n",
    "    return perdida_total\n",
    "\n",
    "y_axis = []\n",
    "\n",
    "for individuo in poblacion:          \n",
    "    y_axis.append(rx(individuo,perdida_criptos))"
   ]
  },
  {
   "cell_type": "code",
   "execution_count": 12,
   "id": "821b68cd",
   "metadata": {},
   "outputs": [
    {
     "data": {
      "text/plain": [
       "Text(0, 0.5, 'Pérdida total')"
      ]
     },
     "execution_count": 12,
     "metadata": {},
     "output_type": "execute_result"
    },
    {
     "data": {
      "image/png": "[encoded data removed]",
      "text/plain": [
       "<Figure size 432x288 with 1 Axes>"
      ]
     },
     "metadata": {
      "needs_background": "light"
     },
     "output_type": "display_data"
    }
   ],
   "source": [
    "plt.bar(x_axis,y_axis)\n",
    "plt.xticks(x_axis)\n",
    "\n",
    "plt.xlabel(\"Individuos\")\n",
    "plt.ylabel(\"Pérdida total\")"
   ]
  },
  {
   "cell_type": "markdown",
   "id": "28cc0a2e",
   "metadata": {},
   "source": [
    "### Creamos una nueva población"
   ]
  },
  {
   "cell_type": "code",
   "execution_count": 13,
   "id": "05e6e81e",
   "metadata": {},
   "outputs": [
    {
     "name": "stdout",
     "output_type": "stream",
     "text": [
      "[[0, 0, 1, 1, 0, 1, 0, 0, 1, 0, 0, 1, 1, 1, 1, 0, 0, 0, 0, 0], [1, 1, 1, 1, 0, 1, 1, 1, 0, 1, 0, 0, 1, 0, 1, 1, 1, 0, 0, 0], [1, 1, 1, 0, 0, 0, 1, 0, 0, 1, 1, 0, 0, 1, 0, 0, 1, 1, 0, 0], [0, 0, 0, 0, 0, 1, 1, 1, 0, 0, 0, 0, 0, 1, 1, 0, 1, 1, 1, 1], [0, 1, 0, 1, 0, 1, 0, 1, 1, 1, 1, 0, 0, 1, 1, 0, 0, 0, 1, 1], [1, 0, 0, 0, 0, 0, 0, 1, 0, 0, 0, 1, 1, 1, 1, 1, 0, 0, 0, 1], [1, 0, 1, 0, 0, 1, 1, 0, 0, 0, 0, 0, 1, 1, 1, 0, 1, 0, 0, 1], [1, 0, 1, 0, 1, 1, 0, 1, 0, 0, 0, 1, 0, 1, 1, 0, 1, 0, 1, 0], [0, 1, 1, 0, 0, 1, 0, 1, 1, 1, 1, 1, 1, 1, 1, 0, 0, 0, 0, 1], [1, 1, 0, 1, 0, 0, 0, 0, 0, 0, 0, 0, 1, 0, 0, 1, 0, 0, 0, 0], [0, 1, 0, 1, 1, 1, 0, 1, 1, 0, 1, 0, 0, 0, 1, 0, 1, 1, 0, 1], [1, 0, 1, 1, 0, 0, 0, 1, 0, 1, 0, 0, 1, 0, 0, 1, 0, 1, 0, 0], [1, 0, 1, 0, 0, 1, 1, 0, 0, 1, 1, 0, 1, 0, 0, 1, 0, 0, 1, 0], [0, 0, 1, 1, 0, 1, 0, 1, 1, 1, 1, 1, 0, 1, 1, 1, 0, 0, 0, 1], [1, 0, 1, 1, 0, 1, 0, 0, 1, 1, 0, 0, 0, 1, 1, 1, 0, 0, 0, 1], [1, 1, 1, 1, 0, 0, 0, 0, 1, 1, 0, 1, 1, 0, 0, 1, 1, 1, 0, 1], [1, 0, 0, 0, 0, 1, 1, 1, 1, 1, 0, 1, 0, 1, 1, 1, 1, 0, 0, 0], [1, 0, 0, 0, 1, 0, 1, 0, 0, 0, 0, 0, 1, 0, 1, 1, 0, 0, 1, 0], [1, 0, 0, 0, 1, 0, 1, 0, 1, 1, 1, 1, 1, 1, 1, 1, 0, 0, 0, 1], [1, 0, 0, 0, 1, 1, 1, 0, 1, 1, 0, 0, 1, 1, 0, 1, 0, 0, 1, 1]]\n"
     ]
    }
   ],
   "source": [
    "genetic_pool = [0,1]\n",
    "poblacion = []\n",
    "\n",
    "for i in range(20):\n",
    "    individuo = list(np.random.choice(genetic_pool,20))\n",
    "    poblacion.append(individuo)\n",
    "\n",
    "# Mostramos la población\n",
    "print(poblacion)"
   ]
  },
  {
   "cell_type": "markdown",
   "id": "ffebc817",
   "metadata": {},
   "source": [
    "### Filtramos los individuos de interés, los que no superen el 3% de pérdida"
   ]
  },
  {
   "cell_type": "code",
   "execution_count": 14,
   "id": "bf8392ea",
   "metadata": {},
   "outputs": [
    {
     "name": "stdout",
     "output_type": "stream",
     "text": [
      "Población apta:  [[1, 0, 0, 0, 0, 1, 1, 0, 0, 1, 0, 0, 0, 1, 0, 0, 0, 0, 1, 0], [0, 0, 0, 0, 0, 0, 1, 0, 0, 1, 1, 0, 1, 0, 0, 1, 1, 1, 0, 1], [0, 1, 1, 0, 0, 1, 0, 0, 0, 1, 0, 0, 0, 1, 0, 0, 0, 1, 0, 0], [0, 0, 1, 0, 0, 0, 0, 1, 0, 0, 1, 0, 1, 0, 0, 1, 0, 0, 0, 1], [1, 0, 0, 0, 1, 0, 0, 0, 0, 0, 1, 0, 1, 0, 0, 1, 0, 0, 1, 0], [1, 0, 1, 0, 0, 0, 0, 0, 0, 0, 0, 0, 0, 0, 1, 0, 1, 0, 0, 0], [0, 1, 0, 1, 0, 0, 1, 0, 0, 0, 0, 0, 0, 1, 0, 1, 1, 1, 0, 1], [0, 0, 1, 1, 0, 0, 1, 0, 0, 1, 0, 0, 1, 1, 0, 0, 0, 1, 0, 1], [0, 0, 0, 0, 0, 1, 0, 1, 0, 0, 1, 0, 1, 1, 0, 1, 0, 0, 0, 0], [1, 0, 0, 0, 1, 0, 0, 0, 1, 1, 1, 0, 0, 0, 0, 1, 1, 0, 0, 0], [1, 0, 1, 1, 0, 0, 0, 0, 1, 0, 0, 0, 0, 0, 0, 0, 0, 1, 1, 1], [0, 0, 0, 1, 0, 1, 0, 1, 1, 0, 1, 0, 0, 0, 0, 0, 1, 1, 0, 0], [0, 0, 0, 0, 0, 1, 0, 1, 1, 0, 0, 0, 1, 1, 0, 0, 0, 0, 0, 0], [1, 0, 0, 0, 0, 0, 1, 0, 1, 1, 1, 0, 0, 0, 0, 0, 1, 1, 1, 0], [0, 0, 0, 0, 0, 0, 0, 1, 0, 0, 0, 0, 1, 0, 0, 1, 0, 0, 0, 1], [0, 0, 0, 1, 1, 0, 0, 1, 1, 0, 1, 0, 0, 0, 0, 0, 1, 0, 1, 0], [0, 0, 1, 0, 0, 0, 0, 0, 1, 1, 1, 0, 0, 0, 1, 0, 0, 1, 1, 0], [0, 1, 1, 1, 0, 0, 0, 1, 0, 0, 0, 0, 0, 1, 0, 0, 1, 0, 0, 1], [0, 0, 0, 1, 0, 0, 1, 0, 1, 1, 0, 0, 0, 0, 0, 0, 1, 0, 1, 0], [0, 0, 0, 0, 0, 0, 0, 0, 0, 0, 0, 0, 1, 0, 0, 1, 0, 1, 0, 1]]\n"
     ]
    }
   ],
   "source": [
    "poblacion_filtrada = []\n",
    "poblacion_apta = []\n",
    "\n",
    "while len(poblacion_apta) < 20: \n",
    "    individuo = list(np.random.choice(genetic_pool,20))    \n",
    "    if(rx(individuo, perdida_criptos) <= 0.03):\n",
    "        poblacion_apta.append(individuo)\n",
    "        \n",
    "print(\"Población apta: \", poblacion_apta)\n",
    "\n",
    "#def filtrar(perdidas_totales):\n",
    "#    \n",
    "#    poblacion = []\n",
    "#    for perdida_individuo in perdidas_totales:       \n",
    "#        if(perdida_individuo <= 0.03):\n",
    "#            poblacion.append(perdida_individuo)\n",
    "#    return poblacion\n",
    "\n",
    "#poblacion_filtrada = crear_poblacion(y_axis)\n",
    "\n",
    "# Pérdidas totales filtradas\n",
    "#print(poblacion_filtrada)"
   ]
  },
  {
   "cell_type": "code",
   "execution_count": 15,
   "id": "7ad820b3",
   "metadata": {},
   "outputs": [],
   "source": [
    "y_axis = []\n",
    "\n",
    "for individuo in poblacion_apta:          \n",
    "    y_axis.append(rx(individuo,perdida_criptos))"
   ]
  },
  {
   "cell_type": "code",
   "execution_count": 16,
   "id": "ef873199",
   "metadata": {},
   "outputs": [
    {
     "data": {
      "text/plain": [
       "Text(0, 0.5, 'Pérdida total')"
      ]
     },
     "execution_count": 16,
     "metadata": {},
     "output_type": "execute_result"
    },
    {
     "data": {
      "image/png": "[encoded data removed]",
      "text/plain": [
       "<Figure size 432x288 with 1 Axes>"
      ]
     },
     "metadata": {
      "needs_background": "light"
     },
     "output_type": "display_data"
    }
   ],
   "source": [
    "plt.bar(x_axis,y_axis)\n",
    "plt.xticks(x_axis)\n",
    "\n",
    "plt.xlabel(\"Individuos\")\n",
    "plt.ylabel(\"Pérdida total\")"
   ]
  },
  {
   "cell_type": "markdown",
   "id": "952a5945",
   "metadata": {},
   "source": [
    "### Buscamos la utilidad máxima para esta población apta"
   ]
  },
  {
   "cell_type": "code",
   "execution_count": 17,
   "id": "fb19d5c3",
   "metadata": {},
   "outputs": [
    {
     "name": "stdout",
     "output_type": "stream",
     "text": [
      "Eje X [1, 2, 3, 4, 5, 6, 7, 8, 9, 10, 11, 12, 13, 14, 15, 16, 17, 18, 19, 20]\n",
      "Eje Y [2.964039301014558, 5.236338193288723, 3.7165645028505003, 3.904041678039395, 3.6981422420201557, 1.583904415457242, 4.633473189297834, 5.448973208219038, 3.2994667285076487, 4.8956704703641005, 4.697842344522803, 3.7282385229634882, 2.360208652046407, 4.407351356779011, 2.6136739428260207, 3.2821539125383414, 4.024525411240221, 3.496243833270275, 2.6565579723262203, 3.27307677389757]\n"
     ]
    }
   ],
   "source": [
    "x_axis = []\n",
    "\n",
    "for i in range(1,21):\n",
    "    x_axis.append(i)\n",
    "\n",
    "print(\"Eje X\", x_axis)\n",
    "\n",
    "y_axis = []\n",
    "\n",
    "for individuo in poblacion_apta:          \n",
    "    y_axis.append(fx(individuo,utilidad_individuo))\n",
    "    \n",
    "print(\"Eje Y\", y_axis)"
   ]
  },
  {
   "cell_type": "code",
   "execution_count": 18,
   "id": "f2814c49",
   "metadata": {},
   "outputs": [
    {
     "data": {
      "text/plain": [
       "Text(0, 0.5, 'Utilidad total')"
      ]
     },
     "execution_count": 18,
     "metadata": {},
     "output_type": "execute_result"
    },
    {
     "data": {
      "image/png": "[encoded data removed]",
      "text/plain": [
       "<Figure size 432x288 with 1 Axes>"
      ]
     },
     "metadata": {
      "needs_background": "light"
     },
     "output_type": "display_data"
    }
   ],
   "source": [
    "plt.bar(x_axis,y_axis)\n",
    "plt.xticks(x_axis)\n",
    "\n",
    "plt.xlabel(\"Individuos\")\n",
    "plt.ylabel(\"Utilidad total\")"
   ]
  },
  {
   "cell_type": "markdown",
   "id": "c8dda5f9",
   "metadata": {},
   "source": [
    "### Ahora aplicamos la función Fitness"
   ]
  },
  {
   "cell_type": "code",
   "execution_count": 19,
   "id": "fe1e0780",
   "metadata": {},
   "outputs": [],
   "source": [
    "fitness =[]\n",
    "\n",
    "#extraigo los valores de y para medir su éxito\n",
    "for individuo in poblacion_apta:  \n",
    "    y = fx(individuo,utilidad_individuo)\n",
    "    fitness += [y]\n",
    "    \n",
    "#convierto fitnees en un vector para realizar operaciones\n",
    "#más fácilmente\n",
    "fitness = np.array(fitness)\n",
    "\n",
    "#divido todos los valores de y para la suma total\n",
    "#y así obtener valores entre 0 y 1\n",
    "fitness=fitness/fitness.sum()"
   ]
  },
  {
   "cell_type": "code",
   "execution_count": 20,
   "id": "032331aa",
   "metadata": {},
   "outputs": [
    {
     "name": "stdout",
     "output_type": "stream",
     "text": [
      "[0.04009767 0.07083744 0.05027787 0.05281407 0.05002865 0.02142714\n",
      " 0.06268185 0.07371398 0.04463535 0.06622887 0.06355264 0.0504358\n",
      " 0.03192902 0.05962287 0.03535791 0.04440114 0.05444398 0.04729736\n",
      " 0.03593805 0.04427834]\n"
     ]
    }
   ],
   "source": [
    "print(fitness)"
   ]
  },
  {
   "cell_type": "markdown",
   "id": "7a304d60",
   "metadata": {},
   "source": [
    "### Entrecruzamiento"
   ]
  },
  {
   "cell_type": "markdown",
   "id": "6e03b30c",
   "metadata": {},
   "source": [
    "Tomamos el tamaño de la población e iteramos en el rango de la mitad de la población. Luego escogemos 1 individuo de dicha población con una probabilidad fitness."
   ]
  },
  {
   "cell_type": "code",
   "execution_count": 21,
   "id": "0f850465",
   "metadata": {},
   "outputs": [],
   "source": [
    "ind_size = 20\n",
    "size_poblacion = len(poblacion_apta)\n",
    "#hijos\n",
    "offspring = []\n",
    "while len(offspring) < 20:\n",
    "    parents = np.random.choice(size_poblacion, 2, p=fitness)\n",
    "    cross_point = np.random.randint(ind_size)\n",
    "    individuo_1 = poblacion_apta[parents[0]][:cross_point] + poblacion_apta[parents[1]][cross_point:]\n",
    "    individuo_2 = poblacion_apta[parents[1]][:cross_point] + poblacion_apta[parents[0]][cross_point:]\n",
    "    #print(\"Individuo 1\", individuo_1)\n",
    "    #print(\"Individuo 2\", individuo_2)\n",
    "    #offspring.append(individuo_1)\n",
    "    #offspring.append(individuo_2) \n",
    "    if(rx(individuo_1, perdida_criptos) <= 0.03):\n",
    "        offspring.append(individuo_1)\n",
    "    if(rx(individuo_2, perdida_criptos) <= 0.03):\n",
    "        offspring.append(individuo_2) "
   ]
  },
  {
   "cell_type": "code",
   "execution_count": 22,
   "id": "6950dcb0",
   "metadata": {},
   "outputs": [
    {
     "data": {
      "text/plain": [
       "[[1, 0, 0, 0, 0, 0, 1, 0, 1, 1, 1, 0, 0, 0, 0, 0, 1, 1, 0, 1],\n",
       " [0, 0, 0, 0, 0, 0, 1, 0, 0, 1, 1, 0, 1, 0, 0, 1, 1, 1, 1, 0],\n",
       " [0, 1, 0, 1, 0, 0, 1, 0, 0, 0, 0, 0, 0, 0, 0, 1, 0, 0, 0, 1],\n",
       " [0, 1, 1, 1, 0, 0, 0, 1, 0, 0, 0, 0, 0, 1, 0, 0, 1, 0, 0, 0],\n",
       " [0, 0, 0, 0, 0, 0, 1, 0, 0, 1, 1, 0, 1, 0, 0, 1, 1, 0, 0, 0],\n",
       " [0, 0, 0, 0, 0, 1, 1, 0, 0, 1, 0, 0, 0, 1, 0, 0, 0, 0, 1, 0],\n",
       " [0, 0, 0, 1, 1, 0, 0, 0, 1, 1, 1, 0, 0, 0, 0, 1, 1, 0, 0, 0],\n",
       " [1, 0, 0, 0, 0, 0, 1, 0, 1, 1, 0, 0, 0, 0, 0, 0, 1, 0, 1, 0],\n",
       " [0, 0, 1, 0, 0, 0, 0, 1, 0, 0, 1, 0, 1, 0, 0, 1, 0, 0, 0, 1],\n",
       " [0, 0, 1, 1, 0, 0, 1, 0, 0, 1, 0, 0, 1, 1, 0, 0, 0, 1, 0, 1],\n",
       " [1, 0, 0, 0, 0, 1, 1, 0, 0, 1, 0, 0, 0, 1, 0, 0, 0, 0, 0, 1],\n",
       " [0, 0, 0, 1, 0, 0, 1, 0, 0, 1, 0, 0, 0, 1, 0, 0, 0, 0, 1, 0],\n",
       " [1, 0, 0, 0, 0, 1, 1, 0, 1, 1, 0, 0, 0, 0, 0, 0, 1, 0, 1, 0],\n",
       " [0, 1, 1, 1, 0, 0, 0, 1, 0, 0, 0, 0, 0, 0, 0, 1, 1, 0, 0, 0],\n",
       " [0, 0, 0, 0, 0, 0, 0, 1, 0, 0, 1, 0, 1, 0, 0, 1, 0, 0, 1, 0],\n",
       " [1, 0, 0, 0, 1, 0, 0, 0, 0, 0, 0, 0, 1, 0, 0, 1, 0, 0, 0, 1],\n",
       " [1, 0, 0, 0, 0, 0, 1, 0, 1, 1, 1, 0, 0, 0, 0, 0, 1, 1, 0, 0],\n",
       " [0, 0, 0, 1, 0, 1, 0, 1, 1, 0, 1, 0, 0, 0, 0, 0, 1, 1, 0, 0],\n",
       " [0, 0, 0, 0, 0, 0, 0, 0, 0, 0, 0, 0, 1, 0, 0, 1, 0, 1, 0, 1],\n",
       " [0, 1, 0, 1, 0, 0, 1, 0, 0, 0, 0, 0, 0, 1, 0, 1, 0, 0, 0, 0]]"
      ]
     },
     "execution_count": 22,
     "metadata": {},
     "output_type": "execute_result"
    }
   ],
   "source": [
    "offspring[:20]"
   ]
  },
  {
   "cell_type": "code",
   "execution_count": 23,
   "id": "6f4094ae",
   "metadata": {},
   "outputs": [
    {
     "name": "stdout",
     "output_type": "stream",
     "text": [
      "y_axis:  [5.32228010351638, 4.321409446551354, 2.9759477704253965, 2.5277206709644644, 3.3162497217637474, 2.1699497161651715, 4.798439519686408, 2.753788923003912, 3.904041678039395, 5.448973208219038, 3.8789680477519264, 2.5232218188886426, 3.0973754544521346, 2.801089958637356, 2.400742320644587, 3.91107386420159, 4.353756941210569, 3.7282385229634882, 3.27307677389757, 2.616156900102867]\n"
     ]
    }
   ],
   "source": [
    "x_axis = []\n",
    "\n",
    "for i in range(1,21):\n",
    "    x_axis.append(i)\n",
    "\n",
    "y_axis = []\n",
    "\n",
    "poblacion_apta = offspring\n",
    "\n",
    "for individuo in poblacion_apta:          \n",
    "    y_axis.append(fx(individuo,utilidad_individuo))\n",
    "    \n",
    "print(\"y_axis: \", y_axis)"
   ]
  },
  {
   "cell_type": "code",
   "execution_count": 24,
   "id": "ca9b4a10",
   "metadata": {},
   "outputs": [
    {
     "data": {
      "text/plain": [
       "Text(0, 0.5, 'Utilidad total')"
      ]
     },
     "execution_count": 24,
     "metadata": {},
     "output_type": "execute_result"
    },
    {
     "data": {
      "image/png": "[encoded data removed]",
      "text/plain": [
       "<Figure size 432x288 with 1 Axes>"
      ]
     },
     "metadata": {
      "needs_background": "light"
     },
     "output_type": "display_data"
    }
   ],
   "source": [
    "plt.bar(x_axis,y_axis)\n",
    "plt.xticks(x_axis)\n",
    "\n",
    "plt.xlabel(\"Individuos\")\n",
    "plt.ylabel(\"Utilidad total\")"
   ]
  },
  {
   "cell_type": "markdown",
   "id": "fa1e8c06",
   "metadata": {},
   "source": [
    "### Mutación"
   ]
  },
  {
   "cell_type": "code",
   "execution_count": 25,
   "id": "0148b14d",
   "metadata": {},
   "outputs": [],
   "source": [
    "def mutate(individuals, prob):    \n",
    "    probabilidades_mutacion = []\n",
    "    for i in range(len(individuals)):        \n",
    "        individuo_mutante = individuals[i]           \n",
    "        probabilidades_mutacion = list(np.random.random(20))\n",
    "        #print(\"probabilidades_mutacion\", probabilidades_mutacion)\n",
    "        j = 0\n",
    "        for gen, prob_mut in zip(individuo_mutante, probabilidades_mutacion):\n",
    "            #print(\"prob_mut\", prob_mut)\n",
    "            if(prob_mut < prob):\n",
    "                if(gen == 0):\n",
    "                    gen = 1\n",
    "                    individuo_mutante[j] = gen\n",
    "                else:\n",
    "                    gen = 0\n",
    "                    individuo_mutante[j] = gen\n",
    "            \n",
    "            j += 1\n",
    "        \n",
    "        #print(individuo_mutante)\n",
    "            \n",
    "        if individuo_mutante != individuals[i]:\n",
    "            print(\"Mutó \" + str(i) + \"por \" + str(individuo_mutante))\n",
    "            if (rx(individuo_mutante, perdida_criptos) <= 0.03):\n",
    "                individuals[i] = individuo_mutante\n",
    "                print(\"Se cambió el individuo \" + str(i) + \" por: \" + str(individuo_mutante))"
   ]
  },
  {
   "cell_type": "code",
   "execution_count": 26,
   "id": "88bc31bc",
   "metadata": {},
   "outputs": [],
   "source": [
    "mutate(poblacion_apta,0.1)"
   ]
  },
  {
   "cell_type": "code",
   "execution_count": 27,
   "id": "44b0ac81",
   "metadata": {},
   "outputs": [
    {
     "data": {
      "text/plain": [
       "[[0, 0, 0, 0, 0, 0, 1, 0, 1, 1, 1, 0, 0, 0, 0, 1, 1, 1, 0, 1],\n",
       " [1, 1, 0, 0, 1, 0, 1, 0, 1, 0, 1, 0, 1, 0, 0, 1, 1, 1, 1, 0],\n",
       " [0, 1, 0, 1, 0, 0, 1, 1, 0, 0, 0, 0, 0, 0, 0, 1, 1, 0, 0, 1],\n",
       " [0, 1, 1, 1, 0, 0, 0, 1, 1, 0, 0, 0, 0, 1, 0, 0, 1, 0, 0, 0],\n",
       " [0, 0, 0, 0, 0, 0, 1, 0, 0, 1, 1, 0, 1, 0, 0, 1, 1, 0, 0, 0],\n",
       " [0, 0, 0, 0, 0, 1, 1, 0, 0, 1, 0, 0, 1, 1, 0, 0, 0, 0, 1, 0],\n",
       " [0, 0, 0, 1, 1, 0, 0, 0, 1, 1, 1, 0, 0, 0, 0, 1, 1, 0, 0, 1],\n",
       " [0, 0, 0, 0, 0, 0, 1, 1, 1, 1, 0, 0, 1, 0, 0, 0, 1, 1, 1, 1],\n",
       " [0, 0, 1, 0, 0, 0, 0, 1, 1, 0, 1, 0, 1, 0, 0, 1, 0, 0, 0, 1],\n",
       " [0, 0, 0, 1, 0, 1, 1, 0, 0, 1, 0, 0, 1, 1, 0, 0, 0, 1, 0, 1],\n",
       " [1, 1, 0, 0, 1, 1, 1, 0, 0, 0, 0, 0, 0, 1, 1, 0, 0, 0, 0, 1],\n",
       " [0, 1, 0, 1, 0, 0, 1, 0, 0, 1, 1, 0, 0, 1, 0, 0, 1, 0, 1, 0],\n",
       " [1, 0, 0, 0, 0, 1, 1, 0, 1, 1, 0, 0, 1, 0, 0, 0, 0, 0, 1, 0],\n",
       " [1, 1, 1, 1, 0, 0, 0, 1, 0, 0, 1, 0, 0, 0, 0, 0, 0, 0, 1, 0],\n",
       " [0, 0, 0, 1, 0, 0, 0, 1, 0, 0, 1, 0, 1, 0, 0, 0, 0, 0, 1, 0],\n",
       " [1, 0, 0, 0, 1, 0, 0, 0, 0, 0, 0, 1, 1, 0, 0, 1, 0, 0, 0, 1],\n",
       " [1, 0, 0, 0, 0, 0, 0, 0, 1, 1, 1, 0, 0, 0, 0, 0, 1, 1, 0, 0],\n",
       " [1, 0, 0, 1, 0, 0, 0, 1, 1, 0, 1, 0, 0, 0, 0, 0, 1, 0, 0, 0],\n",
       " [0, 0, 0, 0, 0, 0, 0, 0, 0, 0, 0, 0, 1, 0, 0, 1, 0, 1, 0, 1],\n",
       " [0, 1, 0, 1, 0, 1, 1, 0, 0, 1, 0, 0, 0, 1, 0, 1, 0, 0, 0, 0]]"
      ]
     },
     "execution_count": 27,
     "metadata": {},
     "output_type": "execute_result"
    }
   ],
   "source": [
    "poblacion_apta[:20]"
   ]
  },
  {
   "cell_type": "markdown",
   "id": "7d17cb76",
   "metadata": {},
   "source": [
    "## Ahora obtenemos de Binance el diccionario con todas las criptomonedas y los datos asociados a estas"
   ]
  },
  {
   "cell_type": "code",
   "execution_count": 28,
   "id": "d4dc6e4e",
   "metadata": {},
   "outputs": [],
   "source": [
    "def GET_ALL_TICKERS():\n",
    "\n",
    "    list_tickers = client.GET_ALL_TICKERS()\n",
    "\n",
    "    for ticker in list_tickers:\n",
    "        symbol = ticker['symbol']\n",
    "        price = ticker['price']\n",
    "\n",
    "        print(\"Símbolo: \" + symbol + \" Precio: \" + price)"
   ]
  },
  {
   "cell_type": "markdown",
   "id": "86891963",
   "metadata": {},
   "source": [
    "## Definimos la función que calculará las Medias Móviles Simples"
   ]
  },
  {
   "cell_type": "code",
   "execution_count": 29,
   "id": "c0e66542",
   "metadata": {},
   "outputs": [],
   "source": [
    "def SMA_INTERVAL_4HRS(period, ticker):\n",
    "    closing_price_list = []\n",
    "\n",
    "    data_historical = client.get_historical_klines(ticker, Client.KLINE_INTERVAL_4HOUR, '800 hour ago UTC')\n",
    "\n",
    "    #print(\"Candles: \", len(data_historical))\n",
    "\n",
    "    sum = 0\n",
    "\n",
    "    if len(data_historical) == 200:\n",
    "        \n",
    "        for i in range((200 - period), 200):\n",
    "            #print(data_historical[i])\n",
    "\n",
    "            sum += float(data_historical[i][4])\n",
    "\n",
    "        sma = round((sum / period), 3)        \n",
    "\n",
    "        print(\"SMA: \" +  ticker + \" Periodo \" + str(period) + \": \" + str(sma))\n",
    "\n",
    "        return(sma)\n",
    "\n",
    "    else:\n",
    "        print(\"No se pudo obtener el historial de velas\")"
   ]
  },
  {
   "cell_type": "markdown",
   "id": "da6c155d",
   "metadata": {},
   "source": [
    "## Definimos la función que calculará las Medias Móviles Exponenciales"
   ]
  },
  {
   "cell_type": "code",
   "execution_count": 30,
   "id": "3b71fd81",
   "metadata": {},
   "outputs": [],
   "source": [
    "def EMA_INTERVAL_4HRS(period, ticker):\n",
    "    closing_price_list = []\n",
    "    ema = []\n",
    "\n",
    "    data_historical = client.get_historical_klines(ticker, Client.KLINE_INTERVAL_4HOUR, '1000 hour ago UTC')\n",
    "\n",
    "    #print(\"Velas: \", len(data_historical))\n",
    "\n",
    "    sma = SMA_INTERVAL_4HRS(period, ticker)\n",
    "    ema.append(sma)\n",
    "\n",
    "    if len(data_historical) == 250:\n",
    "        \n",
    "        for i in range(len(data_historical)):\n",
    "            closing_price_list.append(float(data_historical[i][4]))\n",
    "\n",
    "        for price in closing_price_list[period:]:\n",
    "            ema.append( (price * (2/(period + 1))) + ema[-1] * (1 - (2/(period + 1))) )\n",
    "\n",
    "            #print(\"Cantidad de elementos: \", len(ema))\n",
    "\n",
    "            #for i in ema:\n",
    "            #    print(i)\n",
    "\n",
    "            ema_value = round(ema.pop(), 3)\n",
    "\n",
    "            print(\"EMA: \" + ticker + \" Periodo: \" + str(period) + \" : \" + str(ema_value))\n",
    "\n",
    "            return(ema_value)\n",
    "\n",
    "    else:\n",
    "        print(\"No se pudo obtener el historial de velas\")"
   ]
  },
  {
   "cell_type": "markdown",
   "id": "ef1d9059",
   "metadata": {},
   "source": [
    "## Ejecutamos las pruebas"
   ]
  },
  {
   "cell_type": "code",
   "execution_count": 31,
   "id": "f2812044",
   "metadata": {},
   "outputs": [
    {
     "name": "stdout",
     "output_type": "stream",
     "text": [
      "---- Medias Móviles Simples ----\n",
      "SMA: ADABUSD Periodo 4: 1.05\n",
      "SMA: ADABUSD Periodo 9: 1.055\n",
      "SMA: ADABUSD Periodo 18: 1.084\n",
      "\n",
      "\n",
      "---- Medias Móviles Exponenciales ----\n",
      "SMA: ADABUSD Periodo 4: 1.05\n",
      "EMA: ADABUSD Periodo: 4 : 1.156\n",
      "SMA: ADABUSD Periodo 9: 1.055\n",
      "EMA: ADABUSD Periodo: 9 : 1.106\n",
      "SMA: ADABUSD Periodo 18: 1.084\n",
      "EMA: ADABUSD Periodo: 18 : 1.097\n",
      "Se está cumpliendo la estrategia Triple Cruce EMA 4 9 18\n"
     ]
    }
   ],
   "source": [
    "print(\"---- Medias Móviles Simples ----\")\n",
    "\n",
    "sma4 = SMA_INTERVAL_4HRS(4, 'ADABUSD')\n",
    "sma9 = SMA_INTERVAL_4HRS(9, 'ADABUSD')\n",
    "sma18 = SMA_INTERVAL_4HRS(18, 'ADABUSD')\n",
    "\n",
    "if sma4 > sma9 and sma4 > sma18:\n",
    "    print(\"Se está cumpliendo la estrategia Triple Cruce SMA 4 9 18\")\n",
    "\n",
    "print('\\n')\n",
    "print(\"---- Medias Móviles Exponenciales ----\")\n",
    "    \n",
    "ema4 = EMA_INTERVAL_4HRS(4, 'ADABUSD')\n",
    "ema9 = EMA_INTERVAL_4HRS(9, 'ADABUSD')\n",
    "ema18 = EMA_INTERVAL_4HRS(18, 'ADABUSD')\n",
    "\n",
    "if ema4 > ema9 and ema4 > ema18:\n",
    "    print(\"Se está cumpliendo la estrategia Triple Cruce EMA 4 9 18\")"
   ]
  }
 ],
 "metadata": {
  "kernelspec": {
   "display_name": "Python 3 (ipykernel)",
   "language": "python",
   "name": "python3"
  },
  "language_info": {
   "codemirror_mode": {
    "name": "ipython",
    "version": 3
   },
   "file_extension": ".py",
   "mimetype": "text/x-python",
   "name": "python",
   "nbconvert_exporter": "python",
   "pygments_lexer": "ipython3",
   "version": "3.10.1"
  }
 },
 "nbformat": 4,
 "nbformat_minor": 5
}
