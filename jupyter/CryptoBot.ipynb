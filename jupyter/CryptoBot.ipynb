{
 "cells": [
  {
   "cell_type": "markdown",
   "id": "9cb00ec7",
   "metadata": {},
   "source": [
    "# CryptoBot - Bot de trading con inteligencia artificial para criptomonedas"
   ]
  },
  {
   "cell_type": "markdown",
   "id": "4923c3a5",
   "metadata": {},
   "source": [
    "## Primero instalamos la biblioteca de Python necesaria para conectarnos con la API de Binance\n"
   ]
  },
  {
   "cell_type": "code",
   "execution_count": null,
   "id": "570c8298",
   "metadata": {},
   "outputs": [],
   "source": [
    "import sys\n",
    "!{sys.executable} -m pip install python-binance"
   ]
  },
  {
   "cell_type": "code",
   "execution_count": null,
   "id": "cc97384c",
   "metadata": {},
   "outputs": [],
   "source": [
    "from binance.client import Client\n",
    "\n",
    "# Keys\n",
    "API_KEY = \"FeeMWzRAnK901yrWojYpoVadSfEYEPjqWwXyBU0LirmPmY8rTBgWdsaoc4Z0ywor\"\n",
    "API_SECRET = \"Ro6KcR4zMhfywSvJ4ay9Gkqlpop6rdfan0A7qo4Xe3SL1OgBT8YgyITTN2uOxqhj\"\n",
    "\n",
    "client = Client(API_KEY, API_SECRET, tld='com')"
   ]
  },
  {
   "cell_type": "markdown",
   "id": "de93d726",
   "metadata": {},
   "source": [
    "## Luego instalamos las bibliotecas necesarias para poder graficar y realizar cálculos"
   ]
  },
  {
   "cell_type": "code",
   "execution_count": null,
   "id": "958fd224",
   "metadata": {},
   "outputs": [],
   "source": [
    "#import sys\n",
    "#!{sys.executable} -m pip install matplotlib as plt\n",
    "#importo las bibliotecas necesarias\n",
    "import matplotlib.pyplot as plt\n",
    "import numpy as np\n",
    "import math"
   ]
  },
  {
   "cell_type": "markdown",
   "id": "7d17cb76",
   "metadata": {},
   "source": [
    "## Ahora obtenemos de Binance el diccionario con todas las criptomonedas y los datos asociados a estas"
   ]
  },
  {
   "cell_type": "code",
   "execution_count": null,
   "id": "d4dc6e4e",
   "metadata": {},
   "outputs": [],
   "source": [
    "def GET_ALL_TICKERS():\n",
    "\n",
    "    list_tickers = client.GET_ALL_TICKERS()\n",
    "\n",
    "    for ticker in list_tickers:\n",
    "        symbol = ticker['symbol']\n",
    "        price = ticker['price']\n",
    "\n",
    "        print(\"Símbolo: \" + symbol + \" Precio: \" + price)"
   ]
  },
  {
   "cell_type": "markdown",
   "id": "86891963",
   "metadata": {},
   "source": [
    "## Definimos la función que calculará las Medias Móviles Simples"
   ]
  },
  {
   "cell_type": "code",
   "execution_count": null,
   "id": "c0e66542",
   "metadata": {},
   "outputs": [],
   "source": [
    "def SMA_INTERVAL_4HRS(period, ticker):\n",
    "    closing_price_list = []\n",
    "\n",
    "    data_historical = client.get_historical_klines(ticker, Client.KLINE_INTERVAL_4HOUR, '800 hour ago UTC')\n",
    "\n",
    "    #print(\"Candles: \", len(data_historical))\n",
    "\n",
    "    sum = 0\n",
    "\n",
    "    if len(data_historical) == 200:\n",
    "        \n",
    "        for i in range((200 - period), 200):\n",
    "            #print(data_historical[i])\n",
    "\n",
    "            sum += float(data_historical[i][4])\n",
    "\n",
    "        sma = round((sum / period), 3)        \n",
    "\n",
    "        print(\"SMA: \" +  ticker + \" Periodo \" + str(period) + \": \" + str(sma))\n",
    "\n",
    "        return(sma)\n",
    "\n",
    "    else:\n",
    "        print(\"No se pudo obtener el historial de velas\")"
   ]
  },
  {
   "cell_type": "markdown",
   "id": "da6c155d",
   "metadata": {},
   "source": [
    "## Definimos la función que calculará las Medias Móviles Exponenciales"
   ]
  },
  {
   "cell_type": "code",
   "execution_count": null,
   "id": "3b71fd81",
   "metadata": {},
   "outputs": [],
   "source": [
    "def EMA_INTERVAL_4HRS(period, ticker):\n",
    "    closing_price_list = []\n",
    "    ema = []\n",
    "\n",
    "    data_historical = client.get_historical_klines(ticker, Client.KLINE_INTERVAL_4HOUR, '1000 hour ago UTC')\n",
    "\n",
    "    #print(\"Velas: \", len(data_historical))\n",
    "\n",
    "    sma = SMA_INTERVAL_4HRS(period, ticker)\n",
    "    ema.append(sma)\n",
    "\n",
    "    if len(data_historical) == 250:\n",
    "        \n",
    "        for i in range(len(data_historical)):\n",
    "            closing_price_list.append(float(data_historical[i][4]))\n",
    "\n",
    "        for price in closing_price_list[period:]:\n",
    "            ema.append( (price * (2/(period + 1))) + ema[-1] * (1 - (2/(period + 1))) )\n",
    "\n",
    "            #print(\"Cantidad de elementos: \", len(ema))\n",
    "\n",
    "            #for i in ema:\n",
    "            #    print(i)\n",
    "\n",
    "            ema_value = round(ema.pop(), 3)\n",
    "\n",
    "            print(\"EMA: \" + ticker + \" Periodo: \" + str(period) + \" : \" + str(ema_value))\n",
    "\n",
    "            return(ema_value)\n",
    "\n",
    "    else:\n",
    "        print(\"No se pudo obtener el historial de velas\")"
   ]
  },
  {
   "cell_type": "markdown",
   "id": "ef1d9059",
   "metadata": {},
   "source": [
    "## Ejecutamos las pruebas"
   ]
  },
  {
   "cell_type": "code",
   "execution_count": null,
   "id": "f2812044",
   "metadata": {},
   "outputs": [],
   "source": [
    "print(\"---- Medias Móviles Simples ----\")\n",
    "\n",
    "sma4 = SMA_INTERVAL_4HRS(4, 'ADABUSD')\n",
    "sma9 = SMA_INTERVAL_4HRS(9, 'ADABUSD')\n",
    "sma18 = SMA_INTERVAL_4HRS(18, 'ADABUSD')\n",
    "\n",
    "if sma4 > sma9 and sma4 > sma18:\n",
    "    print(\"Se está cumpliendo la estrategia Triple Cruce SMA 4 9 18\")\n",
    "\n",
    "print('\\n')\n",
    "print(\"---- Medias Móviles Exponenciales ----\")\n",
    "    \n",
    "ema4 = EMA_INTERVAL_4HRS(4, 'ADABUSD')\n",
    "ema9 = EMA_INTERVAL_4HRS(9, 'ADABUSD')\n",
    "ema18 = EMA_INTERVAL_4HRS(18, 'ADABUSD')\n",
    "\n",
    "if ema4 > ema9 and ema4 > ema18:\n",
    "    print(\"Se está cumpliendo la estrategia Triple Cruce EMA 4 9 18\")"
   ]
  }
 ],
 "metadata": {
  "kernelspec": {
   "display_name": "Python 3 (ipykernel)",
   "language": "python",
   "name": "python3"
  },
  "language_info": {
   "codemirror_mode": {
    "name": "ipython",
    "version": 3
   },
   "file_extension": ".py",
   "mimetype": "text/x-python",
   "name": "python",
   "nbconvert_exporter": "python",
   "pygments_lexer": "ipython3",
   "version": "3.10.1"
  }
 },
 "nbformat": 4,
 "nbformat_minor": 5
}
